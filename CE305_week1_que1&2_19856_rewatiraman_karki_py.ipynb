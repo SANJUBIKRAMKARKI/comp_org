{
  "nbformat": 4,
  "nbformat_minor": 0,
  "metadata": {
    "colab": {
      "provenance": [],
      "authorship_tag": "ABX9TyON7P3XPw+ykOgBF+FV1i8x",
      "include_colab_link": true
    },
    "kernelspec": {
      "name": "python3",
      "display_name": "Python 3"
    },
    "language_info": {
      "name": "python"
    }
  },
  "cells": [
    {
      "cell_type": "markdown",
      "metadata": {
        "id": "view-in-github",
        "colab_type": "text"
      },
      "source": [
        "<a href=\"https://colab.research.google.com/github/SANJUBIKRAMKARKI/comp_org/blob/main/CE305_week1_que1%262_19856_rewatiraman_karki_py.ipynb\" target=\"_parent\"><img src=\"https://colab.research.google.com/assets/colab-badge.svg\" alt=\"Open In Colab\"/></a>"
      ]
    },
    {
      "cell_type": "code",
      "source": [
        "#question no 1\n",
        "def is_valid_number(number, base):\n",
        "    valid_characters = \"0123456789ABCDEFGHIJKLMNOPQRSTUVWXYZ\"\n",
        "    for digit in number:\n",
        "        if digit not in valid_characters[:base]:\n",
        "            return False\n",
        "    return True\n",
        "\n",
        "def base_conv(number, from_base, to_base):\n",
        "    if not is_valid_number(number, from_base):\n",
        "        return \"Error: Invalid input number for the given base.\"\n",
        "\n",
        "    decimal_value = int(number, from_base)\n",
        "    result = \"\"\n",
        "\n",
        "    while decimal_value > 0:\n",
        "        remainder = decimal_value % to_base\n",
        "        result = \"0123456789ABCDEFGHIJKLMNOPQRSTUVWXYZ\"[remainder] + result\n",
        "        decimal_value //= to_base\n",
        "\n",
        "    return result\n",
        "\n",
        "# Example usage:\n",
        "input_number = input(\"Enter a number: \")\n",
        "from_base = int(input(\"Enter the base of the input number: \"))\n",
        "to_base = int(input(\"Enter the target base: \"))\n",
        "\n",
        "converted_number = base_conv(input_number, from_base, to_base)\n",
        "print(f\"Result in base {to_base}: {converted_number}\")\n"
      ],
      "metadata": {
        "id": "L_BtUDBAMJQ0"
      },
      "execution_count": null,
      "outputs": []
    },
    {
      "cell_type": "code",
      "execution_count": 4,
      "metadata": {
        "colab": {
          "base_uri": "https://localhost:8080/"
        },
        "id": "Y2X042H0MBcs",
        "outputId": "f446121c-5227-4ee5-e39c-54838514f087"
      },
      "outputs": [
        {
          "output_type": "stream",
          "name": "stdout",
          "text": [
            "11010010101010\n"
          ]
        }
      ],
      "source": [
        "#question no.2\n",
        "def float_to_binary(number):\n",
        "    # Step 1: Convert the number to binary\n",
        "    if number < 0:\n",
        "        sign_bit = 1\n",
        "        number = abs(number)\n",
        "    else:\n",
        "        sign_bit = 0\n",
        "\n",
        "    integer_part = int(number)\n",
        "    fractional_part = number - integer_part\n",
        "\n",
        "    integer_binary = bin(integer_part)[2:]\n",
        "\n",
        "    fractional_binary = \"\"\n",
        "    while fractional_part > 0:\n",
        "        fractional_part *= 2\n",
        "        bit = int(fractional_part)\n",
        "        fractional_binary += str(bit)\n",
        "        fractional_part -= bit\n",
        "\n",
        "    # Step 2: Calculate the exponent\n",
        "    exponent = len(integer_binary) - 1\n",
        "\n",
        "    # Step 3: Adjust the exponent (add 16)\n",
        "    exponent += 16\n",
        "\n",
        "    # Step 4: Convert the exponent to a 5-bit binary representation\n",
        "    exponent_binary = bin(exponent)[2:].zfill(5)\n",
        "\n",
        "    # Step 5: Extract the significand and pad it to 8 bits\n",
        "    significand_binary = integer_binary[1:] + fractional_binary\n",
        "    significand_binary = significand_binary.ljust(8, '0')\n",
        "\n",
        "    # Combine all parts\n",
        "    final_binary = f\"{sign_bit}{exponent_binary}{significand_binary}\"\n",
        "\n",
        "    return final_binary\n",
        "\n",
        "# Test with -26.625\n",
        "decimal_number = -26.625\n",
        "binary_representation = float_to_binary(decimal_number)\n",
        "print( binary_representation)\n"
      ]
    }
  ]
}