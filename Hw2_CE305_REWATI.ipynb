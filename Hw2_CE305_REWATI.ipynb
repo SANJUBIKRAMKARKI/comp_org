{
  "nbformat": 4,
  "nbformat_minor": 0,
  "metadata": {
    "colab": {
      "provenance": [],
      "authorship_tag": "ABX9TyPpyxdEGJHqUnCHAfFCz7w8",
      "include_colab_link": true
    },
    "kernelspec": {
      "name": "python3",
      "display_name": "Python 3"
    },
    "language_info": {
      "name": "python"
    }
  },
  "cells": [
    {
      "cell_type": "markdown",
      "metadata": {
        "id": "view-in-github",
        "colab_type": "text"
      },
      "source": [
        "<a href=\"https://colab.research.google.com/github/SANJUBIKRAMKARKI/comp_org/blob/main/Hw2_CE305_REWATI.ipynb\" target=\"_parent\"><img src=\"https://colab.research.google.com/assets/colab-badge.svg\" alt=\"Open In Colab\"/></a>"
      ]
    },
    {
      "cell_type": "code",
      "execution_count": 2,
      "metadata": {
        "id": "JpVs2X_Havd-",
        "colab": {
          "base_uri": "https://localhost:8080/"
        },
        "outputId": "71dd1845-4642-40bf-948a-1b661cf7a92c"
      },
      "outputs": [
        {
          "output_type": "stream",
          "name": "stdout",
          "text": [
            "No error\n",
            "Error\n",
            "No error\n",
            "Error\n"
          ]
        }
      ],
      "source": [
        "def xor(a, b):\n",
        "    result = []\n",
        "    for i in range(1, len(b)):\n",
        "        if a[i] == b[i]:\n",
        "            result.append('0')\n",
        "        else:\n",
        "            result.append('1')\n",
        "    return ''.join(result)\n",
        "\n",
        "def mod2div(dividend, divisor):\n",
        "    pick = len(divisor)\n",
        "    tmp = dividend[0: pick]\n",
        "\n",
        "    while pick < len(dividend):\n",
        "        if tmp[0] == '1':\n",
        "            tmp = xor(divisor, tmp) + dividend[pick]\n",
        "        else:\n",
        "            tmp = xor('0' * pick, tmp) + dividend[pick]\n",
        "        pick += 1\n",
        "\n",
        "    if tmp[0] == '1':\n",
        "        tmp = xor(divisor, tmp)\n",
        "    else:\n",
        "        tmp = xor('0' * pick, tmp)\n",
        "\n",
        "    return tmp\n",
        "\n",
        "def encoding(msg, poly):\n",
        "    # Append zeros to the original message\n",
        "    msg += '0' * (len(poly) - 1)\n",
        "\n",
        "    # Initialize padded message and divisor\n",
        "    padded_msg = msg\n",
        "    divisor = poly\n",
        "\n",
        "    # Perform long division\n",
        "    remainder = mod2div(padded_msg, divisor)\n",
        "\n",
        "    # Construct the encoded message\n",
        "    encoded_msg = msg + remainder\n",
        "    return encoded_msg\n",
        "\n",
        "def decoding(rcv, poly):\n",
        "    # Perform long division\n",
        "    remainder = mod2div(rcv, poly)\n",
        "\n",
        "    # Check if the remainder is zero\n",
        "    if int(remainder, 2) == 0:\n",
        "        return 'No error'\n",
        "    else:\n",
        "        return 'Error'\n",
        "\n",
        "# Test cases for decoding\n",
        "received_sig1 = '101000111'\n",
        "poly = '100101'\n",
        "print(decoding(received_sig1, poly))  # Output: No error\n",
        "\n",
        "received_sig2 = '101001111'\n",
        "poly = '100101'\n",
        "print(decoding(received_sig2, poly))  # Output: Error\n",
        "\n",
        "received_sig3 = '110011001'\n",
        "poly = '100101'\n",
        "print(decoding(received_sig3, poly))  # Output: No error\n",
        "\n",
        "received_sig4 = '110011111'\n",
        "poly = '100101'\n",
        "print(decoding(received_sig4, poly))  # Output: Error\n"
      ]
    },
    {
      "cell_type": "code",
      "source": [
        "def HammingEncoding(msg):\n",
        "    n = len(msg)\n",
        "    k = 0  # Initialize the number of extra parity bits\n",
        "    while 2**k < n + k + 1:\n",
        "        k += 1\n",
        "\n",
        "    encoded_msg = ['0'] * (n + k)\n",
        "    j = 0\n",
        "    for i in range(1, n + k + 1):\n",
        "        if i == 2**j:\n",
        "            j += 1\n",
        "        else:\n",
        "            encoded_msg[i - 1] = msg[i - j - 1]\n",
        "\n",
        "    for i in range(k):\n",
        "        position = 2**i\n",
        "        parity = 0\n",
        "        for j in range(1, n + k + 1):\n",
        "            if (j & position) != 0:\n",
        "                parity ^= int(encoded_msg[j - 1])\n",
        "        encoded_msg[position - 1] = str(parity)\n",
        "\n",
        "    return ''.join(encoded_msg)\n",
        "\n",
        "def HammingDecoding(rcv, k):\n",
        "    received_msg = list(rcv)\n",
        "    n = len(received_msg) - k\n",
        "    error_positions = []\n",
        "\n",
        "    for i in range(k):\n",
        "        position = 2**i\n",
        "        parity = 0\n",
        "        for j in range(1, n + k + 1):\n",
        "            if (j & position) != 0:\n",
        "                parity ^= int(received_msg[j - 1])\n",
        "        if parity != 0:\n",
        "            error_positions.append(position)\n",
        "\n",
        "    if not error_positions:\n",
        "        return 'No error'\n",
        "    else:\n",
        "        error_position = sum(error_positions)\n",
        "        received_msg[error_position - 1] = str(1 - int(received_msg[error_position - 1]))  # Flip the erroneous bit\n",
        "        correct_msg = ''.join(received_msg)\n",
        "        return f'Error at Position {error_position}, and correct data: {correct_msg}'\n",
        "\n",
        "# Test the functions with provided examples\n",
        "org_sig1 = '1101'\n",
        "encoded_msg1 = HammingEncoding(org_sig1)\n",
        "print(encoded_msg1)  # Output: '1010101'\n",
        "\n",
        "org_sig2 = '1001011'\n",
        "encoded_msg2 = HammingEncoding(org_sig2)\n",
        "print(encoded_msg2)  # Output: '10110010011'\n",
        "\n",
        "received_sig1 = '1010101'\n",
        "result1 = HammingDecoding(received_sig1, 3)\n",
        "print(result1)  # Output: 'No error'\n",
        "\n",
        "received_sig2 = '1010001'\n",
        "result2 = HammingDecoding(received_sig2, 3)\n",
        "print(result2)  # Output: 'Error at Position 5, and correct data: 1010101'\n",
        "\n",
        "received_sig3 = '10110010011'\n",
        "result3 = HammingDecoding(received_sig3, 4)\n",
        "print(result3)  # Output: 'No error'\n",
        "\n",
        "received_sig4 = '10110000011'\n",
        "result4 = HammingDecoding(received_sig4, 4)\n",
        "print(result4)  # Output: 'Error at Position 7, and correct data: 10110010011'\n"
      ],
      "metadata": {
        "colab": {
          "base_uri": "https://localhost:8080/"
        },
        "id": "QuAmAWu0f0tt",
        "outputId": "3e1dcbf5-6d0d-4f43-e74f-7e65d4e262bf"
      },
      "execution_count": 1,
      "outputs": [
        {
          "output_type": "stream",
          "name": "stdout",
          "text": [
            "1010101\n",
            "10110010011\n",
            "No error\n",
            "Error at Position 5, and correct data: 1010101\n",
            "No error\n",
            "Error at Position 7, and correct data: 10110010011\n"
          ]
        }
      ]
    }
  ]
}